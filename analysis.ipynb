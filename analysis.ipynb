{
 "cells": [
  {
   "cell_type": "code",
   "execution_count": 1,
   "metadata": {},
   "outputs": [],
   "source": [
    "import dill\n",
    "\n",
    "# load data\n",
    "data_path = 'data/output/records_final.pkl'\n",
    "voc_path = 'data/output/voc_final.pkl'\n",
    "\n",
    "ehr_adj_path = 'data/output/ehr_adj_final.pkl'\n",
    "ddi_adj_path = 'data/output/ddi_A_final.pkl'\n",
    "\n",
    "ehr_adj = dill.load(open(ehr_adj_path, 'rb'))\n",
    "ddi_adj = dill.load(open(ddi_adj_path, 'rb'))\n",
    "data = dill.load(open(data_path, 'rb'))"
   ]
  },
  {
   "cell_type": "code",
   "execution_count": 2,
   "metadata": {},
   "outputs": [
    {
     "name": "stdout",
     "output_type": "stream",
     "text": [
      "Number of visits: 15032\n",
      "Number of patients: 6350\n",
      "\n",
      "Number of diagnoses: 1958\n",
      "Number of procedures: 1430\n",
      "Number of medications: 112\n",
      "\n",
      "#Visit: 2.367244094488189 29\n",
      "#Diag 13.634978712080894 39\n",
      "#Proc 4.535989888238425 32\n",
      "#Med 19.57344332091538 52\n"
     ]
    }
   ],
   "source": [
    "import numpy as np\n",
    "\n",
    "visit_avg = []\n",
    "diag, proc = [], []\n",
    "med = []\n",
    "\n",
    "diag_dict, proc_dict, med_dict = [], [], []\n",
    "for patient in data:\n",
    "    visit_avg.append(len(patient))\n",
    "    for adm in patient:\n",
    "        diag.append(len(adm[0]))\n",
    "        diag_dict.extend(adm[0])\n",
    "\n",
    "        proc.append(len(adm[1]))\n",
    "        proc_dict.extend(adm[1])\n",
    "\n",
    "        med.append(len(adm[2]))\n",
    "        med_dict.extend(adm[2])\n",
    "\n",
    "print(f'Number of visits: {sum(visit_avg)}')\n",
    "print(f'Number of patients: {len(visit_avg)}')\n",
    "print()\n",
    "print(f'Number of diagnoses: {len(np.unique(diag_dict))}')\n",
    "print(f'Number of procedures: {len(np.unique(proc_dict))}')\n",
    "print(f'Number of medications: {len(np.unique(med_dict))}')\n",
    "print()\n",
    "print('#Visit:', np.mean(visit_avg), np.max(visit_avg))\n",
    "print('#Diag', np.mean(diag), np.max(diag))\n",
    "print('#Proc', np.mean(proc), np.max(proc))\n",
    "print('#Med', np.mean(med), np.max(med))"
   ]
  },
  {
   "cell_type": "code",
   "execution_count": 3,
   "metadata": {},
   "outputs": [
    {
     "name": "stdout",
     "output_type": "stream",
     "text": [
      "Total number of DDI pairs: 337.0\n"
     ]
    }
   ],
   "source": [
    "count = 0\n",
    "for i in range(len(ddi_adj)):\n",
    "    for j in range(len(ddi_adj[0])):\n",
    "        if i != j:\n",
    "            count += ddi_adj[i][j]\n",
    "\n",
    "print('Total number of DDI pairs:', count // 2)"
   ]
  }
 ],
 "metadata": {
  "kernelspec": {
   "display_name": "base",
   "language": "python",
   "name": "python3"
  },
  "language_info": {
   "codemirror_mode": {
    "name": "ipython",
    "version": 3
   },
   "file_extension": ".py",
   "mimetype": "text/x-python",
   "name": "python",
   "nbconvert_exporter": "python",
   "pygments_lexer": "ipython3",
   "version": "3.9.7"
  }
 },
 "nbformat": 4,
 "nbformat_minor": 2
}
